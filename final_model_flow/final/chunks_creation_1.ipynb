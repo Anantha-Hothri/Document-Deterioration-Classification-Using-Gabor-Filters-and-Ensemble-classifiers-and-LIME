{
 "cells": [
  {
   "cell_type": "markdown",
   "id": "558f6e39-6fa3-4dd4-ad72-55cfb0a5a533",
   "metadata": {},
   "source": [
    "# Chunks Creation\n",
    "\n",
    "This code creates 256x256 pixel image tiles (chunks) from a source image and saves them to a specified destination folder."
   ]
  },
  {
   "cell_type": "code",
   "execution_count": 1,
   "id": "d71ffc4e",
   "metadata": {},
   "outputs": [],
   "source": [
    "import os\n",
    "import cv2\n",
    "\n",
    "def chunk_create(src,dest):\n",
    "        # Source image path\n",
    "        source_image_path = src\n",
    "        \n",
    "        # Destination folder\n",
    "        destination_folder = dest+r\"\\chunks\"\n",
    "        \n",
    "        # Tile size\n",
    "        tile_height = 256\n",
    "        tile_width = 256\n",
    "        \n",
    "        # Function to create image tiles\n",
    "        def create_image_tiles(image_path, output_folder, tile_height, tile_width):\n",
    "            # Ensure the output folder exists\n",
    "            os.makedirs(output_folder, exist_ok=True)\n",
    "        \n",
    "            # Read the image\n",
    "            image = cv2.imread(image_path)\n",
    "            file_name = os.path.splitext(os.path.basename(image_path))[0]\n",
    "        \n",
    "            # Get image dimensions\n",
    "            height, width, _ = image.shape\n",
    "        \n",
    "            # Calculate the number of tiles in both dimensions\n",
    "            num_tiles_height = (height + tile_height - 1) // tile_height\n",
    "            num_tiles_width = (width + tile_width - 1) // tile_width\n",
    "        \n",
    "            # Initialize tile counter\n",
    "            tile_counter = 1\n",
    "        \n",
    "            # Iterate over the tiles\n",
    "            for i in range(num_tiles_height):\n",
    "                for j in range(num_tiles_width):\n",
    "                    # Calculate tile boundaries\n",
    "                    y_start = i * tile_height\n",
    "                    y_end = min((i + 1) * tile_height, height)\n",
    "                    x_start = j * tile_width\n",
    "                    x_end = min((j + 1) * tile_width, width)\n",
    "        \n",
    "                    # Extract the tile\n",
    "                    tile = image[y_start:y_end, x_start:x_end]\n",
    "        \n",
    "                    # Generate the tile filename\n",
    "                    tile_filename = f\"{file_name}_chunk{tile_counter:02d}.png\"\n",
    "        \n",
    "                    # Save the tile to the output folder\n",
    "                    tile_path = os.path.join(output_folder, tile_filename)\n",
    "                    cv2.imwrite(tile_path, tile)\n",
    "        \n",
    "                    # Increment tile counter\n",
    "                    tile_counter += 1\n",
    "        \n",
    "        # Create tiles for the input image\n",
    "        create_image_tiles(source_image_path, destination_folder, tile_height, tile_width)\n",
    "        print(f\"Chunks for {source_image_path} is created!\")\n"
   ]
  },
  {
   "cell_type": "code",
   "execution_count": null,
   "id": "1defb9b2-3987-43de-9612-4b6469263d26",
   "metadata": {},
   "outputs": [],
   "source": []
  }
 ],
 "metadata": {
  "kernelspec": {
   "display_name": "Python 3 (ipykernel)",
   "language": "python",
   "name": "python3"
  },
  "language_info": {
   "codemirror_mode": {
    "name": "ipython",
    "version": 3
   },
   "file_extension": ".py",
   "mimetype": "text/x-python",
   "name": "python",
   "nbconvert_exporter": "python",
   "pygments_lexer": "ipython3",
   "version": "3.11.7"
  }
 },
 "nbformat": 4,
 "nbformat_minor": 5
}
